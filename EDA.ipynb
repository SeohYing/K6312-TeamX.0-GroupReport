{
 "cells": [
  {
   "cell_type": "code",
   "execution_count": 1,
   "metadata": {},
   "outputs": [],
   "source": [
    "import pandas as pd\n",
    "import numpy as np\n",
    "\n",
    "import matplotlib.pyplot as plt"
   ]
  },
  {
   "cell_type": "code",
   "execution_count": 2,
   "metadata": {},
   "outputs": [],
   "source": [
    "courses = pd.read_csv('Coursera_courses.csv')\n",
    "reviews = pd.read_csv('Coursera_reviews.csv')"
   ]
  },
  {
   "cell_type": "code",
   "execution_count": 3,
   "metadata": {},
   "outputs": [
    {
     "data": {
      "text/html": [
       "<div>\n",
       "<style scoped>\n",
       "    .dataframe tbody tr th:only-of-type {\n",
       "        vertical-align: middle;\n",
       "    }\n",
       "\n",
       "    .dataframe tbody tr th {\n",
       "        vertical-align: top;\n",
       "    }\n",
       "\n",
       "    .dataframe thead th {\n",
       "        text-align: right;\n",
       "    }\n",
       "</style>\n",
       "<table border=\"1\" class=\"dataframe\">\n",
       "  <thead>\n",
       "    <tr style=\"text-align: right;\">\n",
       "      <th></th>\n",
       "      <th>reviews</th>\n",
       "      <th>reviewers</th>\n",
       "      <th>date_reviews</th>\n",
       "      <th>rating</th>\n",
       "      <th>course_id</th>\n",
       "      <th>name</th>\n",
       "      <th>institution</th>\n",
       "      <th>course_url</th>\n",
       "    </tr>\n",
       "  </thead>\n",
       "  <tbody>\n",
       "    <tr>\n",
       "      <th>0</th>\n",
       "      <td>Pretty dry, but I was able to pass with just t...</td>\n",
       "      <td>By Robert S</td>\n",
       "      <td>Feb 12, 2020</td>\n",
       "      <td>4</td>\n",
       "      <td>google-cbrs-cpi-training</td>\n",
       "      <td>Become a CBRS Certified Professional Installer...</td>\n",
       "      <td>Google - Spectrum Sharing</td>\n",
       "      <td>https://www.coursera.org/learn/google-cbrs-cpi...</td>\n",
       "    </tr>\n",
       "    <tr>\n",
       "      <th>1</th>\n",
       "      <td>would be a better experience if the video and ...</td>\n",
       "      <td>By Gabriel E R</td>\n",
       "      <td>Sep 28, 2020</td>\n",
       "      <td>4</td>\n",
       "      <td>google-cbrs-cpi-training</td>\n",
       "      <td>Become a CBRS Certified Professional Installer...</td>\n",
       "      <td>Google - Spectrum Sharing</td>\n",
       "      <td>https://www.coursera.org/learn/google-cbrs-cpi...</td>\n",
       "    </tr>\n",
       "    <tr>\n",
       "      <th>2</th>\n",
       "      <td>Information was perfect! The program itself wa...</td>\n",
       "      <td>By Jacob D</td>\n",
       "      <td>Apr 08, 2020</td>\n",
       "      <td>4</td>\n",
       "      <td>google-cbrs-cpi-training</td>\n",
       "      <td>Become a CBRS Certified Professional Installer...</td>\n",
       "      <td>Google - Spectrum Sharing</td>\n",
       "      <td>https://www.coursera.org/learn/google-cbrs-cpi...</td>\n",
       "    </tr>\n",
       "    <tr>\n",
       "      <th>3</th>\n",
       "      <td>A few grammatical mistakes on test made me do ...</td>\n",
       "      <td>By Dale B</td>\n",
       "      <td>Feb 24, 2020</td>\n",
       "      <td>4</td>\n",
       "      <td>google-cbrs-cpi-training</td>\n",
       "      <td>Become a CBRS Certified Professional Installer...</td>\n",
       "      <td>Google - Spectrum Sharing</td>\n",
       "      <td>https://www.coursera.org/learn/google-cbrs-cpi...</td>\n",
       "    </tr>\n",
       "    <tr>\n",
       "      <th>4</th>\n",
       "      <td>Excellent course and the training provided was...</td>\n",
       "      <td>By Sean G</td>\n",
       "      <td>Jun 18, 2020</td>\n",
       "      <td>4</td>\n",
       "      <td>google-cbrs-cpi-training</td>\n",
       "      <td>Become a CBRS Certified Professional Installer...</td>\n",
       "      <td>Google - Spectrum Sharing</td>\n",
       "      <td>https://www.coursera.org/learn/google-cbrs-cpi...</td>\n",
       "    </tr>\n",
       "  </tbody>\n",
       "</table>\n",
       "</div>"
      ],
      "text/plain": [
       "                                             reviews       reviewers  \\\n",
       "0  Pretty dry, but I was able to pass with just t...     By Robert S   \n",
       "1  would be a better experience if the video and ...  By Gabriel E R   \n",
       "2  Information was perfect! The program itself wa...      By Jacob D   \n",
       "3  A few grammatical mistakes on test made me do ...       By Dale B   \n",
       "4  Excellent course and the training provided was...       By Sean G   \n",
       "\n",
       "   date_reviews  rating                 course_id  \\\n",
       "0  Feb 12, 2020       4  google-cbrs-cpi-training   \n",
       "1  Sep 28, 2020       4  google-cbrs-cpi-training   \n",
       "2  Apr 08, 2020       4  google-cbrs-cpi-training   \n",
       "3  Feb 24, 2020       4  google-cbrs-cpi-training   \n",
       "4  Jun 18, 2020       4  google-cbrs-cpi-training   \n",
       "\n",
       "                                                name  \\\n",
       "0  Become a CBRS Certified Professional Installer...   \n",
       "1  Become a CBRS Certified Professional Installer...   \n",
       "2  Become a CBRS Certified Professional Installer...   \n",
       "3  Become a CBRS Certified Professional Installer...   \n",
       "4  Become a CBRS Certified Professional Installer...   \n",
       "\n",
       "                 institution  \\\n",
       "0  Google - Spectrum Sharing   \n",
       "1  Google - Spectrum Sharing   \n",
       "2  Google - Spectrum Sharing   \n",
       "3  Google - Spectrum Sharing   \n",
       "4  Google - Spectrum Sharing   \n",
       "\n",
       "                                          course_url  \n",
       "0  https://www.coursera.org/learn/google-cbrs-cpi...  \n",
       "1  https://www.coursera.org/learn/google-cbrs-cpi...  \n",
       "2  https://www.coursera.org/learn/google-cbrs-cpi...  \n",
       "3  https://www.coursera.org/learn/google-cbrs-cpi...  \n",
       "4  https://www.coursera.org/learn/google-cbrs-cpi...  "
      ]
     },
     "execution_count": 3,
     "metadata": {},
     "output_type": "execute_result"
    }
   ],
   "source": [
    "# We merge the two datasets (reviews & courses) based on the column 'course_id' \n",
    "# Drop the 'course_url' column\n",
    "df = pd.merge(reviews, courses, on='course_id') \n",
    "#df = df.drop('course_url', 1)\n",
    "\n",
    "df.head()"
   ]
  },
  {
   "cell_type": "code",
   "execution_count": 4,
   "metadata": {},
   "outputs": [
    {
     "name": "stderr",
     "output_type": "stream",
     "text": [
      "<ipython-input-4-8176cddb2242>:5: FutureWarning: In a future version of pandas all arguments of DataFrame.drop except for the argument 'labels' will be keyword-only\n",
      "  df = df.drop('date_reviews', 1)\n"
     ]
    }
   ],
   "source": [
    "# Replace date_reviews column with 'month' and 'year' \n",
    "df['year'] = pd.to_datetime(df['date_reviews']).dt.year\n",
    "df['month'] = pd.to_datetime(df['date_reviews']).dt.month\n",
    "\n",
    "df = df.drop('date_reviews', 1)"
   ]
  },
  {
   "cell_type": "code",
   "execution_count": 5,
   "metadata": {},
   "outputs": [
    {
     "data": {
      "text/html": [
       "<div>\n",
       "<style scoped>\n",
       "    .dataframe tbody tr th:only-of-type {\n",
       "        vertical-align: middle;\n",
       "    }\n",
       "\n",
       "    .dataframe tbody tr th {\n",
       "        vertical-align: top;\n",
       "    }\n",
       "\n",
       "    .dataframe thead th {\n",
       "        text-align: right;\n",
       "    }\n",
       "</style>\n",
       "<table border=\"1\" class=\"dataframe\">\n",
       "  <thead>\n",
       "    <tr style=\"text-align: right;\">\n",
       "      <th></th>\n",
       "      <th>reviews</th>\n",
       "      <th>reviewers</th>\n",
       "      <th>rating</th>\n",
       "      <th>course_id</th>\n",
       "      <th>name</th>\n",
       "      <th>institution</th>\n",
       "      <th>course_url</th>\n",
       "      <th>year</th>\n",
       "      <th>month</th>\n",
       "    </tr>\n",
       "  </thead>\n",
       "  <tbody>\n",
       "    <tr>\n",
       "      <th>0</th>\n",
       "      <td>Pretty dry, but I was able to pass with just t...</td>\n",
       "      <td>By Robert S</td>\n",
       "      <td>4</td>\n",
       "      <td>google-cbrs-cpi-training</td>\n",
       "      <td>Become a CBRS Certified Professional Installer...</td>\n",
       "      <td>Google - Spectrum Sharing</td>\n",
       "      <td>https://www.coursera.org/learn/google-cbrs-cpi...</td>\n",
       "      <td>2020</td>\n",
       "      <td>2</td>\n",
       "    </tr>\n",
       "    <tr>\n",
       "      <th>1</th>\n",
       "      <td>would be a better experience if the video and ...</td>\n",
       "      <td>By Gabriel E R</td>\n",
       "      <td>4</td>\n",
       "      <td>google-cbrs-cpi-training</td>\n",
       "      <td>Become a CBRS Certified Professional Installer...</td>\n",
       "      <td>Google - Spectrum Sharing</td>\n",
       "      <td>https://www.coursera.org/learn/google-cbrs-cpi...</td>\n",
       "      <td>2020</td>\n",
       "      <td>9</td>\n",
       "    </tr>\n",
       "    <tr>\n",
       "      <th>2</th>\n",
       "      <td>Information was perfect! The program itself wa...</td>\n",
       "      <td>By Jacob D</td>\n",
       "      <td>4</td>\n",
       "      <td>google-cbrs-cpi-training</td>\n",
       "      <td>Become a CBRS Certified Professional Installer...</td>\n",
       "      <td>Google - Spectrum Sharing</td>\n",
       "      <td>https://www.coursera.org/learn/google-cbrs-cpi...</td>\n",
       "      <td>2020</td>\n",
       "      <td>4</td>\n",
       "    </tr>\n",
       "    <tr>\n",
       "      <th>3</th>\n",
       "      <td>A few grammatical mistakes on test made me do ...</td>\n",
       "      <td>By Dale B</td>\n",
       "      <td>4</td>\n",
       "      <td>google-cbrs-cpi-training</td>\n",
       "      <td>Become a CBRS Certified Professional Installer...</td>\n",
       "      <td>Google - Spectrum Sharing</td>\n",
       "      <td>https://www.coursera.org/learn/google-cbrs-cpi...</td>\n",
       "      <td>2020</td>\n",
       "      <td>2</td>\n",
       "    </tr>\n",
       "    <tr>\n",
       "      <th>4</th>\n",
       "      <td>Excellent course and the training provided was...</td>\n",
       "      <td>By Sean G</td>\n",
       "      <td>4</td>\n",
       "      <td>google-cbrs-cpi-training</td>\n",
       "      <td>Become a CBRS Certified Professional Installer...</td>\n",
       "      <td>Google - Spectrum Sharing</td>\n",
       "      <td>https://www.coursera.org/learn/google-cbrs-cpi...</td>\n",
       "      <td>2020</td>\n",
       "      <td>6</td>\n",
       "    </tr>\n",
       "  </tbody>\n",
       "</table>\n",
       "</div>"
      ],
      "text/plain": [
       "                                             reviews       reviewers  rating  \\\n",
       "0  Pretty dry, but I was able to pass with just t...     By Robert S       4   \n",
       "1  would be a better experience if the video and ...  By Gabriel E R       4   \n",
       "2  Information was perfect! The program itself wa...      By Jacob D       4   \n",
       "3  A few grammatical mistakes on test made me do ...       By Dale B       4   \n",
       "4  Excellent course and the training provided was...       By Sean G       4   \n",
       "\n",
       "                  course_id  \\\n",
       "0  google-cbrs-cpi-training   \n",
       "1  google-cbrs-cpi-training   \n",
       "2  google-cbrs-cpi-training   \n",
       "3  google-cbrs-cpi-training   \n",
       "4  google-cbrs-cpi-training   \n",
       "\n",
       "                                                name  \\\n",
       "0  Become a CBRS Certified Professional Installer...   \n",
       "1  Become a CBRS Certified Professional Installer...   \n",
       "2  Become a CBRS Certified Professional Installer...   \n",
       "3  Become a CBRS Certified Professional Installer...   \n",
       "4  Become a CBRS Certified Professional Installer...   \n",
       "\n",
       "                 institution  \\\n",
       "0  Google - Spectrum Sharing   \n",
       "1  Google - Spectrum Sharing   \n",
       "2  Google - Spectrum Sharing   \n",
       "3  Google - Spectrum Sharing   \n",
       "4  Google - Spectrum Sharing   \n",
       "\n",
       "                                          course_url  year  month  \n",
       "0  https://www.coursera.org/learn/google-cbrs-cpi...  2020      2  \n",
       "1  https://www.coursera.org/learn/google-cbrs-cpi...  2020      9  \n",
       "2  https://www.coursera.org/learn/google-cbrs-cpi...  2020      4  \n",
       "3  https://www.coursera.org/learn/google-cbrs-cpi...  2020      2  \n",
       "4  https://www.coursera.org/learn/google-cbrs-cpi...  2020      6  "
      ]
     },
     "execution_count": 5,
     "metadata": {},
     "output_type": "execute_result"
    }
   ],
   "source": [
    "df.head()"
   ]
  },
  {
   "cell_type": "code",
   "execution_count": 6,
   "metadata": {},
   "outputs": [
    {
     "data": {
      "text/plain": [
       "1454711"
      ]
     },
     "execution_count": 6,
     "metadata": {},
     "output_type": "execute_result"
    }
   ],
   "source": [
    "df.shape[0]"
   ]
  },
  {
   "cell_type": "code",
   "execution_count": 7,
   "metadata": {},
   "outputs": [],
   "source": [
    "# Find out top 10 courses with highest number of reviews\n",
    "top_reviewed_courses = df.name.value_counts()"
   ]
  },
  {
   "cell_type": "code",
   "execution_count": 8,
   "metadata": {},
   "outputs": [
    {
     "data": {
      "text/plain": [
       "Programming for Everybody (Getting Started with Python)                           45218\n",
       "Machine Learning                                                                  35895\n",
       "Neural Networks and Deep Learning                                                 35750\n",
       "Technical Support Fundamentals                                                    35319\n",
       "Python Data Structures                                                            33546\n",
       "Learning How to Learn: Powerful mental tools to help you master tough subjects    32265\n",
       "AI For Everyone                                                                   21630\n",
       "Excel Skills for Business: Essentials                                             21251\n",
       "What is Data Science?                                                             21087\n",
       "The Science of Well-Being                                                         20085\n",
       "Name: name, dtype: int64"
      ]
     },
     "execution_count": 8,
     "metadata": {},
     "output_type": "execute_result"
    }
   ],
   "source": [
    "top_reviewed_courses.head(10)"
   ]
  },
  {
   "cell_type": "code",
   "execution_count": 9,
   "metadata": {},
   "outputs": [
    {
     "data": {
      "text/plain": [
       "institution                         name                                                                          \n",
       "University of Michigan              Programming for Everybody (Getting Started with Python)                           45218\n",
       "Stanford University                 Machine Learning                                                                  35895\n",
       "DeepLearning.AI                     Neural Networks and Deep Learning                                                 35750\n",
       "Google                              Technical Support Fundamentals                                                    35319\n",
       "University of Michigan              Python Data Structures                                                            33546\n",
       "University of California San Diego  Learning How to Learn: Powerful mental tools to help you master tough subjects    32265\n",
       "DeepLearning.AI                     AI For Everyone                                                                   21630\n",
       "Macquarie University                Excel Skills for Business: Essentials                                             21251\n",
       "IBM                                 What is Data Science?                                                             21087\n",
       "Yale University                     The Science of Well-Being                                                         20085\n",
       "Name: name, dtype: int64"
      ]
     },
     "execution_count": 9,
     "metadata": {},
     "output_type": "execute_result"
    }
   ],
   "source": [
    "# Find top 10 reviewed courses with institution\n",
    "top_inst_course = df.groupby(['institution'])['name'].value_counts().sort_values(ascending=False)\n",
    "top_inst_course.head(10)"
   ]
  },
  {
   "cell_type": "code",
   "execution_count": 10,
   "metadata": {},
   "outputs": [
    {
     "data": {
      "text/plain": [
       "COVID-19 Contact Tracing For Nursing Professionals             11\n",
       "The Business of Product Management I                            9\n",
       "Spanish for Successful Communication in Healthcare Settings     8\n",
       "Entreprise et changement climatique                             6\n",
       "Curanderismo: Traditional Healing Using Plants                  6\n",
       "Social and Economic Networks:  Models and Analysis              6\n",
       "Introduction to Healthcare                                      6\n",
       "Entrepreneurship Strategy: From Ideation to Exit                6\n",
       "Epigenetic Control of Gene Expression                           6\n",
       "Building Modern Python Applications on AWS                      3\n",
       "Name: name, dtype: int64"
      ]
     },
     "execution_count": 10,
     "metadata": {},
     "output_type": "execute_result"
    }
   ],
   "source": [
    "# Find out top 10 courses with lowest number of reviews\n",
    "top_reviewed_courses.tail(10)"
   ]
  },
  {
   "cell_type": "code",
   "execution_count": 11,
   "metadata": {},
   "outputs": [
    {
     "data": {
      "text/plain": [
       "institution                  name                                                       \n",
       "University of Houston        COVID-19 Contact Tracing For Nursing Professionals             11\n",
       "Advancing Women in Product   The Business of Product Management I                            9\n",
       "Rice University              Spanish for Successful Communication in Healthcare Settings     8\n",
       "The University of Melbourne  Epigenetic Control of Gene Expression                           6\n",
       "Stanford University          Social and Economic Networks:  Models and Analysis              6\n",
       "HEC Paris                    Entrepreneurship Strategy: From Ideation to Exit                6\n",
       "University of New Mexico     Curanderismo: Traditional Healing Using Plants                  6\n",
       "Stanford University          Introduction to Healthcare                                      6\n",
       "ESSEC Business School        Entreprise et changement climatique                             6\n",
       "Amazon Web Services          Building Modern Python Applications on AWS                      3\n",
       "Name: name, dtype: int64"
      ]
     },
     "execution_count": 11,
     "metadata": {},
     "output_type": "execute_result"
    }
   ],
   "source": [
    "# Find lowest 10 courses with institution\n",
    "low_inst_course = df.groupby(['institution'])['name'].value_counts().sort_values(ascending=False)\n",
    "low_inst_course.tail(10)"
   ]
  },
  {
   "cell_type": "code",
   "execution_count": 12,
   "metadata": {},
   "outputs": [
    {
     "data": {
      "text/plain": [
       "Index(['Programming for Everybody (Getting Started with Python)',\n",
       "       'Machine Learning', 'Neural Networks and Deep Learning',\n",
       "       'Technical Support Fundamentals', 'Python Data Structures',\n",
       "       'Learning How to Learn: Powerful mental tools to help you master tough subjects',\n",
       "       'AI For Everyone', 'Excel Skills for Business: Essentials',\n",
       "       'What is Data Science?', 'The Science of Well-Being',\n",
       "       ...\n",
       "       'COVID-19 Contact Tracing For Nursing Professionals',\n",
       "       'The Business of Product Management I',\n",
       "       'Spanish for Successful Communication in Healthcare Settings',\n",
       "       'Entreprise et changement climatique',\n",
       "       'Curanderismo: Traditional Healing Using Plants',\n",
       "       'Social and Economic Networks:  Models and Analysis',\n",
       "       'Introduction to Healthcare',\n",
       "       'Entrepreneurship Strategy: From Ideation to Exit',\n",
       "       'Epigenetic Control of Gene Expression',\n",
       "       'Building Modern Python Applications on AWS'],\n",
       "      dtype='object', length=603)"
      ]
     },
     "execution_count": 12,
     "metadata": {},
     "output_type": "execute_result"
    }
   ],
   "source": [
    "top_reviewed_courses.index"
   ]
  },
  {
   "cell_type": "code",
   "execution_count": 15,
   "metadata": {},
   "outputs": [
    {
     "data": {
      "image/png": "[encoded data removed]",
      "text/plain": [
       "<Figure size 432x288 with 1 Axes>"
      ]
     },
     "metadata": {
      "needs_background": "light"
     },
     "output_type": "display_data"
    }
   ],
   "source": [
    "#Plot graph\n",
    "import seaborn as sns\n",
    "\n",
    "sns.barplot(x = top_reviewed_courses.head(10).values ,y =top_reviewed_courses.head(10).index)\n",
    "plt.title(\"Top 10 courses with highest number of reviews\")\n",
    "plt.savefig(\"top_10_courses_reviews.png\",\n",
    "                    format='png',dpi=600, bbox_inches='tight')"
   ]
  },
  {
   "cell_type": "code",
   "execution_count": 16,
   "metadata": {},
   "outputs": [
    {
     "data": {
      "image/png": "[encoded data removed]",
      "text/plain": [
       "<Figure size 432x288 with 1 Axes>"
      ]
     },
     "metadata": {
      "needs_background": "light"
     },
     "output_type": "display_data"
    }
   ],
   "source": [
    "sns.barplot(x = top_reviewed_courses.tail(10).values ,y =top_reviewed_courses.tail(10).index)\n",
    "plt.title(\"Top 10 courses with lowest number of reviews\")\n",
    "plt.savefig(\"bottom_10_courses_reviews.png\",\n",
    "                    format='png',dpi=150, bbox_inches='tight')"
   ]
  },
  {
   "cell_type": "code",
   "execution_count": 18,
   "metadata": {},
   "outputs": [
    {
     "data": {
      "text/plain": [
       "University of Michigan                167069\n",
       "DeepLearning.AI                       117029\n",
       "Google                                 78613\n",
       "IBM                                    70769\n",
       "University of Pennsylvania             70531\n",
       "Stanford University                    63504\n",
       "University of California San Diego     59589\n",
       "Johns Hopkins University               57149\n",
       "Yale University                        51850\n",
       "Google Cloud                           49285\n",
       "Name: institution, dtype: int64"
      ]
     },
     "execution_count": 18,
     "metadata": {},
     "output_type": "execute_result"
    }
   ],
   "source": [
    "# Find top 10 institutions with highest number of reviews \n",
    "top_reviewed_institution = df.institution.value_counts()\n",
    "top_reviewed_institution.head(10)"
   ]
  },
  {
   "cell_type": "code",
   "execution_count": 19,
   "metadata": {},
   "outputs": [
    {
     "data": {
      "image/png": "[encoded data removed]",
      "text/plain": [
       "<Figure size 432x288 with 1 Axes>"
      ]
     },
     "metadata": {
      "needs_background": "light"
     },
     "output_type": "display_data"
    }
   ],
   "source": [
    "# Plot graph\n",
    "sns.barplot(x = top_reviewed_institution.head(10).values ,y =top_reviewed_institution.head(10).index)\n",
    "plt.title(\"Top 10 institutions with highest number of reviews\")\n",
    "plt.savefig(\"top_10_institutions_reviews.png\",\n",
    "                    format='png',dpi=150, bbox_inches='tight')"
   ]
  },
  {
   "cell_type": "code",
   "execution_count": 20,
   "metadata": {},
   "outputs": [
    {
     "data": {
      "text/plain": [
       "institution\n",
       "GitLab                               5.000000\n",
       "UCL School of Management             4.948276\n",
       "Google - Spectrum Sharing            4.931034\n",
       "Hebrew University of Jerusalem       4.928451\n",
       "The University of Chicago            4.921771\n",
       "Arizona State University             4.912794\n",
       "University of Rochester              4.908163\n",
       "Universidad de los Andes             4.906390\n",
       "Universidade Estadual de Campinas    4.903674\n",
       "Facebook                             4.886364\n",
       "Name: rating, dtype: float64"
      ]
     },
     "execution_count": 20,
     "metadata": {},
     "output_type": "execute_result"
    }
   ],
   "source": [
    "# Find mean rating for institutions\n",
    "mean_inst_rating = df.groupby(['institution'])['rating'].mean().sort_values(ascending=False)\n",
    "mean_inst_rating.head(10)"
   ]
  },
  {
   "cell_type": "code",
   "execution_count": 32,
   "metadata": {},
   "outputs": [
    {
     "data": {
      "image/png": "[encoded data removed]",
      "text/plain": [
       "<Figure size 432x288 with 1 Axes>"
      ]
     },
     "metadata": {
      "needs_background": "light"
     },
     "output_type": "display_data"
    }
   ],
   "source": [
    "sns.barplot(x = mean_inst_rating.head(10).values ,y =mean_inst_rating.head(10).index)\n",
    "plt.xlim(4, 5)\n",
    "plt.title(\"Top 10 institution ratings\")\n",
    "plt.savefig(\"top_10_institutions_ratings.png\",\n",
    "                    format='png',dpi=150, bbox_inches='tight')"
   ]
  },
  {
   "cell_type": "code",
   "execution_count": 21,
   "metadata": {},
   "outputs": [
    {
     "data": {
      "text/plain": [
       "name\n",
       "Entreprise et changement climatique                                                                5.000000\n",
       "How to Manage a Remote Team                                                                        5.000000\n",
       "Removing Barriers to Change                                                                        5.000000\n",
       "Building Modern Python Applications on AWS                                                         5.000000\n",
       "El Abogado del Futuro: Legaltech y la Transformación Digital del Derecho                           4.968000\n",
       "Développement psychologique de l'enfant                                                            4.964706\n",
       "The Horse Course: Introduction to Basic Care and Management                                        4.957364\n",
       "Build a Modern Computer from First Principles: Nand to Tetris Part II (project-centered course)    4.956989\n",
       "Bugs 101: Insect-Human Interactions                                                                4.955823\n",
       "Economics of Money and Banking                                                                     4.955720\n",
       "Name: rating, dtype: float64"
      ]
     },
     "execution_count": 21,
     "metadata": {},
     "output_type": "execute_result"
    }
   ],
   "source": [
    "# Find mean rating for courses\n",
    "mean_course_rating = df.groupby(['name'])['rating'].mean().sort_values(ascending=False)\n",
    "mean_course_rating.head(10)"
   ]
  },
  {
   "cell_type": "code",
   "execution_count": 22,
   "metadata": {},
   "outputs": [
    {
     "data": {
      "text/plain": [
       "name                                                                            rating\n",
       "Programming for Everybody (Getting Started with Python)                         5         29732\n",
       "Technical Support Fundamentals                                                  5         29295\n",
       "Python Data Structures                                                          5         29160\n",
       "Neural Networks and Deep Learning                                               5         29103\n",
       "Machine Learning                                                                5         28485\n",
       "Learning How to Learn: Powerful mental tools to help you master tough subjects  5         27033\n",
       "Excel Skills for Business: Essentials                                           5         19356\n",
       "The Science of Well-Being                                                       5         18987\n",
       "AI For Everyone                                                                 5         18789\n",
       "What is Data Science?                                                           5         15939\n",
       "Name: rating, dtype: int64"
      ]
     },
     "execution_count": 22,
     "metadata": {},
     "output_type": "execute_result"
    }
   ],
   "source": [
    "# Find top courses with highest ratings and reviews\n",
    "count_course = df.groupby(['name'])['rating'].value_counts().sort_values(ascending=False)\n",
    "count_course.head(10)\n",
    "#mean_course_rating.append(count_course)"
   ]
  },
  {
   "cell_type": "code",
   "execution_count": 23,
   "metadata": {},
   "outputs": [],
   "source": [
    "# Find distribution of reviews by month, year-on-year\n",
    "\n",
    "def review_counter(year, start_month, end_month):\n",
    "    \n",
    "    data = df[(df.year == year) & (df.month >= start_month) & (df.month <= end_month)]\n",
    "    \n",
    "    ratings = list(data.groupby(['month']).rating.count())\n",
    "    \n",
    "    return ratings"
   ]
  },
  {
   "cell_type": "code",
   "execution_count": 24,
   "metadata": {},
   "outputs": [],
   "source": [
    "months = ['Jan', 'Feb', 'Mar', 'Apr', 'May', 'June', 'July', 'Aug', 'Sep', 'Oct', 'Nov', 'Dec']\n",
    "months_2020 = ['Jan', 'Feb', 'Mar', 'Apr', 'May', 'June', 'July', 'Aug', 'Sep', 'Oct'] \n",
    "\n",
    "# how many reviews per month from 2016 to 2020? \n",
    "reviews_2020 = review_counter(2020, 1, 10)\n",
    "reviews_2019 = review_counter(2019, 1, 12)\n",
    "reviews_2018 = review_counter(2018, 1, 12)\n",
    "reviews_2017 = review_counter(2017, 1, 12)\n",
    "reviews_2016 = review_counter(2016, 1, 12)"
   ]
  },
  {
   "cell_type": "code",
   "execution_count": 25,
   "metadata": {},
   "outputs": [
    {
     "name": "stdout",
     "output_type": "stream",
     "text": [
      "[23383, 22712, 33288, 98992, 150382, 126473, 113534, 91980, 77863, 15984] [15658, 16835, 20939, 16465, 18154, 19364, 22788, 23177, 22255, 21947, 20548, 21215] [14016, 15003, 16479, 14196, 13180, 13599, 12035, 12507, 12757, 13333, 12711, 12375] [10335, 8501, 9343, 9255, 12003, 15014, 16064, 18111, 18045, 15871, 14041, 12207] [10749, 12533, 10807, 6746, 6170, 8674, 4785, 7951, 8330, 10737, 10377, 9649]\n"
     ]
    }
   ],
   "source": [
    "print(reviews_2020, reviews_2019, reviews_2018, reviews_2017, reviews_2016)"
   ]
  },
  {
   "cell_type": "code",
   "execution_count": 26,
   "metadata": {},
   "outputs": [
    {
     "data": {
      "image/png": "[encoded data removed]",
      "text/plain": [
       "<Figure size 432x288 with 1 Axes>"
      ]
     },
     "metadata": {
      "needs_background": "light"
     },
     "output_type": "display_data"
    }
   ],
   "source": [
    "plt.plot(months_2020, reviews_2020)\n",
    "plt.plot(months, reviews_2019)\n",
    "plt.plot(months, reviews_2018)\n",
    "plt.plot(months, reviews_2017)\n",
    "plt.plot(months, reviews_2016)\n",
    "\n",
    "plt.legend(['2020', '2019', '2018', '2017', '2016'], loc='upper left')\n",
    "plt.title(\"Number of reviews by month, year-on-year from 2016 to 2020\")\n",
    "plt.savefig(\"reviews_months.png\",\n",
    "                    format='png',dpi=150)\n",
    "\n",
    "plt.show()"
   ]
  },
  {
   "cell_type": "code",
   "execution_count": 27,
   "metadata": {},
   "outputs": [],
   "source": [
    "import matplotlib.pyplot as plt\n",
    "import matplotlib.ticker as tick\n",
    "import pandas as pd\n",
    "import seaborn as sns\n",
    "import numpy as np\n",
    "#% matplotlib inline\n",
    "\n",
    "def reformat_large_tick_values(tick_val, pos):\n",
    "    \"\"\"\n",
    "    Turns large tick values (in the billions, millions and thousands) such as 4500 into 4.5K and also appropriately turns 4000 into 4K (no zero after the decimal).\n",
    "    \"\"\"\n",
    "    if tick_val >= 1000000000:\n",
    "        val = round(tick_val/1000000000, 1)\n",
    "        new_tick_format = '{:}B'.format(val)\n",
    "    elif tick_val >= 1000000:\n",
    "        val = round(tick_val/1000000, 1)\n",
    "        new_tick_format = '{:}M'.format(val)\n",
    "    elif tick_val >= 1000:\n",
    "        val = round(tick_val/1000, 1)\n",
    "        new_tick_format = '{:}K'.format(val)\n",
    "    elif tick_val < 1000:\n",
    "        new_tick_format = round(tick_val, 1)\n",
    "    else:\n",
    "        new_tick_format = tick_val\n",
    "\n",
    "    # make new_tick_format into a string value\n",
    "    new_tick_format = str(new_tick_format)\n",
    "    \n",
    "    # code below will keep 4.5M as is but change values such as 4.0M to 4M since that zero after the decimal isn't needed\n",
    "    index_of_decimal = new_tick_format.find(\".\")\n",
    "    \n",
    "    if index_of_decimal != -1:\n",
    "        value_after_decimal = new_tick_format[index_of_decimal+1]\n",
    "        if value_after_decimal == \"0\":\n",
    "            # remove the 0 after the decimal point since it's not needed\n",
    "            new_tick_format = new_tick_format[0:index_of_decimal] + new_tick_format[index_of_decimal+2:]\n",
    "            \n",
    "    return new_tick_format"
   ]
  },
  {
   "cell_type": "code",
   "execution_count": 28,
   "metadata": {},
   "outputs": [
    {
     "data": {
      "image/png": "[encoded data removed]",
      "text/plain": [
       "<Figure size 432x288 with 1 Axes>"
      ]
     },
     "metadata": {
      "needs_background": "light"
     },
     "output_type": "display_data"
    }
   ],
   "source": [
    "# Distribution of review scores\n",
    "\n",
    "x = df['rating'].value_counts().index\n",
    "y = df['rating'].value_counts().values\n",
    "plt.bar(x, y, fill = 'navy', edgecolor = 'k', width = 1)\n",
    "plt.xlabel('Rating score'); plt.ylabel('Count'); plt.title('Distribution of Overall Rating Scores');\n",
    "plt.xticks(list(range(1, 6)));\n",
    "ax = plt.gca()\n",
    "ax.bar_label\n",
    "ax.yaxis.set_major_formatter(tick.FuncFormatter(reformat_large_tick_values));\n",
    "\n",
    "plt.savefig(\"distribution of rating scores.png\",\n",
    "            format='png',dpi=150)"
   ]
  },
  {
   "cell_type": "code",
   "execution_count": 29,
   "metadata": {},
   "outputs": [
    {
     "data": {
      "text/plain": [
       "5    1146164\n",
       "4     226702\n",
       "3      48303\n",
       "1      17354\n",
       "2      16188\n",
       "Name: rating, dtype: int64"
      ]
     },
     "execution_count": 29,
     "metadata": {},
     "output_type": "execute_result"
    }
   ],
   "source": [
    "df['rating'].value_counts()"
   ]
  },
  {
   "cell_type": "code",
   "execution_count": 41,
   "metadata": {},
   "outputs": [
    {
     "data": {
      "image/png": "[encoded data removed]",
      "text/plain": [
       "<Figure size 360x360 with 1 Axes>"
      ]
     },
     "metadata": {},
     "output_type": "display_data"
    }
   ],
   "source": [
    "df['rating'].value_counts().plot.pie(autopct='%1.0f%%', figsize=(5,5), fontsize=8)\n",
    "plt.title(\"Percentage Distribution of User Ratings\")\n",
    "plt.ylabel(\"\")\n",
    "\n",
    "plt.savefig(\"distribution of ratings pie chart.png\",\n",
    "                    format='png',dpi=150, )"
   ]
  },
  {
   "cell_type": "code",
   "execution_count": null,
   "metadata": {},
   "outputs": [],
   "source": []
  }
 ],
 "metadata": {
  "kernelspec": {
   "display_name": "Python 3",
   "language": "python",
   "name": "python3"
  },
  "language_info": {
   "codemirror_mode": {
    "name": "ipython",
    "version": 3
   },
   "file_extension": ".py",
   "mimetype": "text/x-python",
   "name": "python",
   "nbconvert_exporter": "python",
   "pygments_lexer": "ipython3",
   "version": "3.8.3"
  }
 },
 "nbformat": 4,
 "nbformat_minor": 4
}
